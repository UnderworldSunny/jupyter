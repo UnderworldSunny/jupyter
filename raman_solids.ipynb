{
 "cells": [
  {
   "cell_type": "code",
   "execution_count": 1,
   "id": "30906c4b",
   "metadata": {},
   "outputs": [],
   "source": [
    "import matplotlib.pyplot as plt\n",
    "import numpy as np\n",
    "import pandas as pd\n",
    "\n",
    "from scipy.optimize import curve_fit\n",
    "\n",
    "\n",
    "plt.rcParams.update({'font.size': 12,\n",
    "                     'axes.titlesize': 20,\n",
    "                     'axes.labelsize': 18,\n",
    "                     'axes.labelpad': 14,\n",
    "                     'lines.linewidth': 2,\n",
    "                     'lines.markersize': 10,\n",
    "                     'xtick.labelsize' : 16,\n",
    "                     'ytick.labelsize' : 16,\n",
    "                     'xtick.top' : True,\n",
    "                     'xtick.direction' : 'in',\n",
    "                     'ytick.right' : True,\n",
    "                     'ytick.direction' : 'in',})"
   ]
  },
  {
   "cell_type": "markdown",
   "id": "02750956",
   "metadata": {},
   "source": [
    "## Aufgabe 1, bestimmung der Kopplungskonstante $C_{+}$"
   ]
  },
  {
   "cell_type": "markdown",
   "id": "f9254a41",
   "metadata": {},
   "source": [
    "Es sollen die Kopplungskonstante von Silizium, Diamant, Galliumarsenid (GaAs) und Galliumphosphid (GaP) anhand der Energien ihrer Phononen bestimmt werden.\n",
    "\n",
    "Silizium |  Diamant\n",
    ":-------------------------:|:-------------------------:\n",
    "![silizium](Graphen/Aufgabe1/task1-si.png)  |  ![diamant](Graphen/Aufgabe1/task1-dia.png)\n",
    "\n",
    "\n",
    "Galliumarsenid |  Galliumphosphid\n",
    ":-------------------------:|:-------------------------:\n",
    "![gaas](Graphen/Aufgabe1/task1-GaAs.png)  |  ![gap](Graphen/Aufgabe1/task1-GaP.png)\n",
    "\n",
    "<span id = \"Abbildung1\"> Abbildung 1 : Ramanspektrum </span>\n",
    "<span id = \"Abbildung1\"; style=\"text-align:center;\"> Abbildung 1 : Ramanspektrum </span>\n",
    "\n",
    "\n",
    "\n",
    "Ein detaillierter Ausschnitt von Silicium, GaP und GaAs ist in [Abbildung 2](#Abbildung2) zu sehen.\n",
    "\n",
    "| Probe | Gitterparameter a [$10^{-10}m$]|  Masse der Basenatome [u]| Ramanshift $\\Delta\\tilde{\\nu} [cm^{-1}]$ |\n",
    "| ---------- | -------- | ---------- | ---------- |\n",
    "| Silizium | 5.431 [[3](#lattice_param_si)]  [[5](#lattice_param_si2)]  [[4](#lattice_param_table)] | 28.08 [[8](#atomic_weights)]| 522 |\n",
    "| Diamant |  3.567 [[4](#lattice_param_table)] |12.01 [[8](#atomic_weights)] | 1334 |\n",
    "| Galliumarsenid | 5.653 [[6](#lattice_param_gaas)]   [[4](#lattice_param_table)]| 69.72 (Ga) [[8](#atomic_weights)]<br/> 74.92 (As) [[8](#atomic_weights)]  | 78 |\n",
    "| Galliumphosphid | 5.451 [[7](#lattice_param_gap)]   [[4](#lattice_param_table)]| 69.72 (Ga) [[8](#atomic_weights)]<br/> 30.97 (P) [[8](#atomic_weights)]|  404 |\n",
    "\n",
    "<span id = \"Tabelle1\"; style=\"text-align:center\"> Tabelle 1 : Gitterparameter, Massen der Basen des Kristalls auf 4 signifikante Stellen und Ramanshift aus Abbildung 1.</span>\n",
    "\n",
    "Da $\\vec{k_0}$ und $\\vec{k}$ aus Gleichung(5) antiparallel sind, gilt für die Werte aus Tabelle 1 $2\\pi\\tilde{\\nu}<<\\frac{\\pi}{a}$. Daraus folgt $\\vec{k_0}+\\vec{k}$ liegt innerhalb der ersten Brillouin-Zone, deshalb gilt $\\vec{G} =0$ und [Gleichung 5 FIXME](#FIXME) vereinfacht sich zu $k_0\\pm q-k=0$. Damit ergibt sich dann $q<<\\frac{\\pi}{a} \\Rightarrow qa\\approx0$ \n",
    "Aus [Gleichung 3 FIXME](#FIXME) folgt damit $$w^2(q)= \\frac{4C_{+}M_{+}}{M_{x}^2}$$\n",
    "Mit [Gleichung 5 FIXME](#FIXME) ergibt sich so für $\\omega(q)=\\Delta\\omega=2\\pi c \\Delta\\tilde{\\nu}$. Oben einsetzen und umformen liefert $$ C_{+} = \\frac{(\\pi c \\Delta\\tilde{\\nu} M_{x})^2}{M_{+}}$$\n",
    "Für die Zinkblenden Struckturen erwartet man eine Aufspaltung der LO und TO Moden aufgrund der zeiatomigen Basis.Da GaAs und GaP nach [1] (100)-orientiert sind ergibt sich, aus den Auswahlregeln, dass nur LO zu messen wäre.\n",
    "Die zweite zusehende Linie ins die TO Mode die nach [8. Seite 381 Tabelle 7.2](#fundamentalsofsemiconductors) und [9](#paper) für von 0 verschiedene Winkel zwischen der (100)-Eben und der Oberfläche. Die (100)-Ebene der Probe wird deshalb wahrscheinlicht nicht perfekt parallel zu Oberfläche sein. Die Auswahl der richtigen Mode wurde nach [11 S.446](#buch1) und [12 S.107](#buch2) getroffen.\n",
    "Die resultierenden Ergebnisse für die Kopplungskonstante sind in [Tabelle 2](#Tabelle2) dargestellt.\n",
    "\n",
    "| Probe | $$C_{+}[kg/s^{2}]$$|\n",
    "| ---------- | -------- | \n",
    "| Silizium | 112.7 | \n",
    "| Diamant |  314.8|\n",
    "| Galliumarsenid | 6.472 |\n",
    "| Galliumphosphid | 103.1 |\n",
    "\n",
    "<span id = \"Tabelle2\"> Tabelle 2 : Messergebnisse von test </span>\n",
    "\n",
    "<p id = \"Tabelle2\"> Tabelle 2 : Messergebnisse von $C_{+}$ <p/>\n",
    "\n",
    "<p id = \"Tabelle2\"> Tabelle 2 : Messergebnisse von $C_{+}$ </p>\n",
    "\n",
    "<p style=\"text-align:center;\"> This is centered text.</p>\n",
    "<p style=\"text-align:center;\">This is centered text.</p>\n",
    "<p style=\"text-align:center\">This is centered text.</p>\n",
    "<p style=\"text-align:center\"> This is centered text.</p>\n",
    "hallo\n",
    "<p id = \"Tabelle2\"; style=\"text-align:center;\"> This is centered text.</p>\n",
    "<p id = \"Tabelle2\"; style=\"text-align:center;\">This is centered text.</p>\n",
    "<p id = \"Tabelle2\"; style=\"text-align:center\">This is centered text.</p>\n",
    "<p id = \"Tabelle2\"; style=\"text-align:center\"> This is centered text.</p>\n"
   ]
  },
  {
   "cell_type": "markdown",
   "id": "13b3264d",
   "metadata": {},
   "source": [
    "## Aufgabe 2 , Energie der Raman-aktiven Phononenmoden"
   ]
  },
  {
   "cell_type": "markdown",
   "id": "f4a466d1",
   "metadata": {},
   "source": [
    "Bestimmt werden soll die Energie der Raman-aktiven Phononenmoden von GaN und ZnO.\n",
    "Die Energie der Moden ist nach [Gleichung 4 FIXME](#FIXME) gegeben durch $$E=hc\\Delta\\tilde{\\nu}$$\n",
    "\n",
    "Galliumnitrid (stehend) |  Galliumnitrid (liegend)\n",
    ":-------------------------:|:-------------------------:\n",
    " ![task2-GaN-s.png](Graphen/Aufgabe2/task2-GaN-s.png)| ![task2-GaN-l.png](Graphen/Aufgabe2/task2-GaN-l.png)\n",
    " \n",
    " Zinkoxid (c-Ebene) | Zinkoxid (m-Ebene) | Zinkoxid (r-Ebene)\n",
    ":-------------------------:|:-------------------------:|:-------------------------:\n",
    " ![task2-GaN-s.png](Graphen/Aufgabe2/task2-ZnO-c.png)| ![task2-GaN-l.png](Graphen/Aufgabe2/task2-ZnO-m.png)| ![task2-GaN-l.png](Graphen/Aufgabe2/task2-ZnO-r.png)\n",
    "\n",
    "<p id = 'Abbildung3'; style=\"text-align: center;\">Abbildung 3 :Raman-aktiven Phononenmoden </p>\n",
    "\n",
    "Aus [Abbildung 3](#Abbildung3), den Ergebissen zu den Auswahlregeln der Wurzitstruktur und nach[1] liegt die c-Achse senkrecht zu einer der Oberflächen ergibt sich, dass bei Galliumnitrid (stehend) die Oberfläche parallel zur m-Ebene ist und bei Galliumnitrid (liegend) parallel zur c-Ebene. In [Tabelle 3](#Tabelle3) sind die Ergebnisse dargestellt.\n",
    "\n",
    "| Probe | $$\\Delta\\tilde{\\nu}[cm^{-1}]$$| Energie [meV]\n",
    "| :----------: | :--------: | :--------: |\n",
    "| Galliumnitrid (m-Ebene) | 144 <br/> 530 <br/> 569 <br/> 737| 17.8 <br/> 65.7 <br/> 70.5 <br/> 91.3 |\n",
    "| Galliumnitrid (c-Ebene) |  144 <br/> 569 <br/> 733 | 17.8 <br/> 70.5 <br/> 90.8|\n",
    "| Zinkoxid (c-Ebene) | 99 <br/> 438 | 12.2 <br/> 54.3 |\n",
    "| Zinkoxid (m-Ebene) | 101 <br/> 332 <br/> 378 <br/> 438 | 12.5 <br/> 41.1 <br/> 46.8 <br/> 54.3|\n",
    "| Zinkoxid (r-Ebene) | 99 <br/> 438 | 12.2 <br/> 54.3 |\n",
    "\n",
    "<p id = 'Tabelle3'; style=\"text-align: center;\"> Tabelle 3 : Energie der Raman-aktiven Phononenmoden </p>"
   ]
  },
  {
   "cell_type": "markdown",
   "id": "04f53ae0",
   "metadata": {},
   "source": [
    "## Aufgabe 3 , Quasi-Moden"
   ]
  },
  {
   "cell_type": "markdown",
   "id": "0380dba6",
   "metadata": {},
   "source": [
    "Zunächst sollen für ZnO und GaN Messungen bei schrägem Lichteinfall durgeführt werden. Die gemessen Daten sind in [Abbildung 5](#Abbildung5) dargestellt. Dannach wird die Energieabhängigkeit der polaren Phononemoden von ZnO und GaN mit den Theoretischen Erwartungen verglichen und aus den Messungen die c-Achse des Kristalls ermittelt.\n",
    "\n",
    "Galliumnitrid (-50 Grad) |  Galliumnitrid (-30 Grad) | Galliumnitrid (+30 Grad) |  Galliumnitrid (+50 Grad)\n",
    ":-------------------------:|:-------------------------:|:-------------------------:|:-------------------------:\n",
    "![task3-GaN-50.png](Graphen/Aufgabe3/task3-GaN-50.png)| ![task3-GaN-30.png](Graphen/Aufgabe3/task3-GaN-30.png) | ![task3-GaN+30.png](Graphen/Aufgabe3/task3-GaN+30.png)| ![task3-GaN+50.png](Graphen/Aufgabe3/task3-GaN+50.png)\n",
    " \n",
    " Zinkoxid (-50 Grad) | Zinkoxid (-30 Grad) | Zinkoxid (+30 Grad) | Zinkoxid (+50 Grad)\n",
    ":-------------------------:|:---------------------:|:--------------------:|:------------------:\n",
    "![task3-ZnO-r-50.png](Graphen/Aufgabe3/task3-ZnO-r-50.png)| ![task3-ZnO-r-30.png](Graphen/Aufgabe3/task3-ZnO-r-30.png) | ![task3-ZnO-r+30.png](Graphen/Aufgabe3/task3-ZnO-r+30.png)| ![task3-ZnO-r+50.png](Graphen/Aufgabe3/task3-ZnO-r+50.png)\n",
    "\n",
    "<p id = 'Abbildung5'; style=\"text-align: center;\">Abbildung 5 :Quasi-Moden </p>\n",
    "\n",
    "Der Winkel muss noch mit dem Brechungsgesetzes $sin(\\phi)=nsin(\\theta)$ umgerechnet werden. Wobei für ZnO n=2.0 und für GaN n=2.4 angenommen wurde. Die Konkrete Berechnung ist jedoch nich nötig das sich für ZnO und GaN aus [Abbildung 5](#Abbildung5) keine Raman-Verschiebung ergibt und damit auch keine Winkelabhängigkeit.\n",
    "\n"
   ]
  },
  {
   "cell_type": "markdown",
   "id": "644592c3",
   "metadata": {},
   "source": [
    "## Aufgabe 4 , Lage der <001>-Richtungen"
   ]
  },
  {
   "cell_type": "markdown",
   "id": "9f0cd276",
   "metadata": {},
   "source": [
    "Bestimmt werden soll die Lage der <001>-Richtungen im GaP-Kristall mittels polarisierter Raman-Messung.\n",
    "In [Abbildung 6](#Abbildung6) sind die einzelen Messungen abgebildet,[Abbildung 7](#Abbildung7) zeigt die Probe im gewählten Koordinatensystem."
   ]
  },
  {
   "cell_type": "code",
   "execution_count": 6,
   "id": "c595081f",
   "metadata": {},
   "outputs": [],
   "source": [
    "W = [0, 10, 20, 30, 40, 50, 60, 70, 80, 90, 100, 110, 120, 130]\n",
    "I = [14265000, 12285000, 9810000, 7215000, 7735000, 9265000, 15260000, 19600000, 19150000, 18800000, 14685000, 10850000, 8060000, 6665000]\n",
    "\n",
    "def fit_cos_sin(x,a,b,c):\n",
    "    x=x*2*np.pi/360\n",
    "    return a*np.sin(2*(x-b))**2+c\n",
    "\n",
    "init_guess =[1e7,40,1e7]\n",
    "\n",
    "\n",
    "ans, cov = curve_fit( fit_cos_sin ,W,I,p0=init_guess,absolute_sigma=True)\n",
    "\n",
    "x=np.linspace(0,130,100000)\n",
    "\n",
    "fig ,ax = plt.subplots(1,1, figsize=(8,6))\n",
    "ax.plot(W,I,'bs', label=\"Messung\", linewidth=1.0)\n",
    "ax.plot(x,fit_cos_sin(x,ans[0],ans[1],ans[2]),'r', label=\"fit a*sin(2*(x-b))^2+c\", linewidth=1.0)\n",
    "\n",
    "ax.set_ylabel('Intensität in [arbitrary unit]')\n",
    "ax.set_xlabel('Winkel in [Grad]')\n",
    "\n",
    "ax.legend(loc='upper left', shadow=True)\n",
    "#plt.show()\n",
    "plt.close()\n",
    "\n",
    "#print(ans)\n",
    "#print(np.sqrt(cov[0][0]),np.sqrt(cov[1][1]),np.sqrt(cov[2][2]))\n",
    "\n"
   ]
  },
  {
   "cell_type": "markdown",
   "id": "77401fe8",
   "metadata": {},
   "source": [
    "\n",
    "![skizze2.png](Graphen/Aufgabe4/skizze2.png) \n",
    "\n",
    "<p id = 'Abbildung7'; style=\"text-align: center;\"> Abbildung 7 :Probe im Koordinatensystem </p>\n",
    "\n",
    "![fit.png](Graphen/Aufgabe4/fit.png) \n",
    "\n",
    "<p id = 'Abbildung8'; style=\"text-align: center;\"> Abbildung 8 :Fit an die Intesitätsverteilung </p>\n",
    "\n",
    "Aus dem Fit ergibt sich $a=4.84174341e+07\\pm3.05, b=39.8581787\\pm1.6e-8,c=7.06816649e+06\\pm0.4$. \n",
    "Daraus folgt, das Koordinatensystem der Probe is um $\\phi= 39.8^{\\circ}$gedreht zu dem aus [Abbildung 7](#Abbildung7).\n",
    "\n"
   ]
  },
  {
   "cell_type": "markdown",
   "id": "9c3c65ae",
   "metadata": {},
   "source": [
    "### Internetquellen\n",
    "\n",
    "<span id=\"lattice_param_si\">[3] : https://physics.nist.gov/cgi-bin/cuu/Value?asil (28.11.23). CODATA Internationally recommended 2018 values of the Fundamental Physical Constants. lattice parameter of silicon</span>\n",
    "\n",
    "<span id=\"lattice_param_table\">[4] : https://7id.xray.aps.anl.gov/calculators/crystal_lattice_parameters.html (28.11.23). Lattice Constants and Crystal Structures of some Semiconductors and Other Materials</span>\n",
    "\n",
    "<span id=\"lattice_param_si2\">[5] : https://www.ioffe.ru/SVA/NSM/Semicond/Si/basic.html (28.11.23). Silicon Basic Parameters at 300 K</span>\n",
    "\n",
    "<span id=\"lattice_param_gaas\">[6] : https://www.ioffe.ru/SVA/NSM/Semicond/GaAs/basic.html (28.11.23). Gallium Arsenide  Basic Parameters at 300 K</span>\n",
    "\n",
    "<span id=\"lattice_param_gap\">[7] : https://www.ioffe.ru/SVA/NSM/Semicond/GaP/basic.html (28.11.23). Gallium Phosphide  Basic Parameters at 300 K</span>\n",
    "\n",
    "<span id=\"atomic_weights\">[8] : https://iupac.qmul.ac.uk/AtWt (02.12.23). Table 2. List of Elements in Atomic Number Order.</span>\n",
    "\n",
    "<span id=\"fundamentalsofsemiconductors\">[9] : P. Y. Yu and M. Cardona,Fundamentals of Semiconductors: Physics and Materials Properties, Springer, 1996.</span>\n",
    "\n",
    "<span id=\"paper\">[10] : J.A. Steele, Pascal Puech, R.A. Lewis. Polarized Raman backscattering selection rules for (hhl)-oriented diamond- and zincblende-type crystals. Journal of Applied Physics, 2016, 120 (5), pp.055701.\n",
    "10.1063/1.4959824. hal-01756981 </span>\n",
    "\n",
    "<span id=\"buch1\">[11] : FIXME das mit S446 </span>\n",
    "<span id=\"buch2\">[12] : FIXME das mit S107</span>\n",
    "\n"
   ]
  },
  {
   "cell_type": "markdown",
   "id": "76938ea1",
   "metadata": {},
   "source": [
    "\n",
    "Silicium | Galliumarsenid |  Galliumphosphid\n",
    ":-------------------------:|:-------------------------:|:-------------------------:\n",
    "![gaas](Graphen/Aufgabe1/task1-si-ausschnitt.png)  | ![gaas](Graphen/Aufgabe1/task1-GaAs-ausschnitt.png)  |  ![gap](Graphen/Aufgabe1/task1-GaP-ausschnitt.png)\n",
    "\n",
    "<p id = 'Abbildung2'; style=\"text-align: center;\">Abbildung 2 : Ramanspektrum Ausschnitt </p>"
   ]
  },
  {
   "cell_type": "markdown",
   "id": "cee22bff",
   "metadata": {},
   "source": [
    "\n",
    "Zinkoxid (m-plane) | Zinkoxid (r-plane)\n",
    ":-------------------------:|:-------------------------:\n",
    "![task2-GaN-l.png](Graphen/Aufgabe2/task2-ZnO-m-ausschnitt.png)| ![task2-GaN-l.png](Graphen/Aufgabe2/task2-ZnO-r-ausschnitt.png)\n",
    " \n",
    " <p id = 'Abbildung4'; style=\"text-align: center;\">Abbildung 4 : Zinkoxid Ausschnitt </p>"
   ]
  },
  {
   "cell_type": "markdown",
   "id": "5d953d63",
   "metadata": {},
   "source": [
    "\n",
    "GaP (0 Grad) |  GaP (10 Grad) | GaP (20 Grad) | GaP  (30 Grad)\n",
    ":-------------------------:|:-------------------------:|:-------------------------: |:-------------------------:\n",
    "![task4-GaP-0.png](Graphen/Aufgabe4/task4-GaP-0.png)| ![task4-GaP-10.png](Graphen/Aufgabe4/task4-GaP-10.png) | ![task4-GaP-20.png](Graphen/Aufgabe4/task4-GaP-20.png) | ![task4-GaP-30.png](Graphen/Aufgabe4/task4-GaP-30.png)\n",
    "\n",
    "GaP (40 Grad) |  GaP (50 Grad) | GaP (60 Grad) | GaP (70 Grad)\n",
    ":-------------------------:|:-------------------------:|:-------------------------:|:-------------------------:\n",
    "![task4-GaP-40.png](Graphen/Aufgabe4/task4-GaP-40.png)| ![task4-GaP-50.png](Graphen/Aufgabe4/task4-GaP-50.png) | ![task4-GaP-60.png](Graphen/Aufgabe4/task4-GaP-60.png) | ![task4-GaP-70.png](Graphen/Aufgabe4/task4-GaP-70.png)\n",
    "\n",
    "GaP (80 Grad) |  GaP (90 Grad) | GaP (100 Grad) | \n",
    ":-------------------------:|:-------------------------:|:-------------------------:\n",
    "![task4-GaP-80.png](Graphen/Aufgabe4/task4-GaP-80.png)| ![task4-GaP-90.png](Graphen/Aufgabe4/task4-GaP-90.png) | ![task4-GaP-100.png](Graphen/Aufgabe4/task4-GaP-100.png) \n",
    "\n",
    "GaP (110 Grad) |  GaP (120 Grad) | GaP (130 Grad) | \n",
    ":-------------------------:|:-------------------------:|:-------------------------:\n",
    "![task4-GaP-110.png](Graphen/Aufgabe4/task4-GaP-110.png)| ![task4-GaP-120.png](Graphen/Aufgabe4/task4-GaP-120.png) | ![task4-GaP-130.png](Graphen/Aufgabe4/task4-GaP-130.png) \n",
    "\n",
    "\n",
    "<p id = 'Abbildung6'; style=\"text-align: center;\">Abbildung 6 : Raman Spektrum GaP für die Winkel von 0-130 Grad in 10 Grad Schriten </p>"
   ]
  },
  {
   "cell_type": "code",
   "execution_count": null,
   "id": "d8124084",
   "metadata": {},
   "outputs": [],
   "source": []
  }
 ],
 "metadata": {
  "kernelspec": {
   "display_name": "Python 3 (ipykernel)",
   "language": "python",
   "name": "python3"
  },
  "language_info": {
   "codemirror_mode": {
    "name": "ipython",
    "version": 3
   },
   "file_extension": ".py",
   "mimetype": "text/x-python",
   "name": "python",
   "nbconvert_exporter": "python",
   "pygments_lexer": "ipython3",
   "version": "3.11.2"
  }
 },
 "nbformat": 4,
 "nbformat_minor": 5
}
